{
 "cells": [
  {
   "cell_type": "markdown",
   "metadata": {},
   "source": [
    "# Deploy and monitor a machine learning workflow for Image Classification"
   ]
  },
  {
   "cell_type": "markdown",
   "metadata": {},
   "source": [
    "## Setting up this notebook\n",
    "\n",
    "Notes about the instance size and kernel setup: this notebook has been tested on\n",
    "\n",
    "1. The `Python 3 (Data Science)` kernel\n",
    "2. The `ml.t3.medium` Sagemaker notebook instance\n",
    "\n",
    "## Data Staging\n",
    "\n",
    "We'll use a sample dataset called CIFAR to simulate the challenges Scones Unlimited are facing in Image Classification. In order to start working with CIFAR we'll need to:\n",
    "\n",
    "1. Extract the data from a hosting service\n",
    "2. Transform it into a usable shape and format\n",
    "3. Load it into a production system\n",
    "\n",
    "In other words, we're going to do some simple ETL!\n",
    "\n",
    "### 1. Extract the data from the hosting service\n",
    "\n",
    "In the cell below, define a function `extract_cifar_data` that extracts python version of the CIFAR-100 dataset. The CIFAR dataaset is open source and generously hosted by the University of Toronto at: https://www.cs.toronto.edu/~kriz/cifar-100-python.tar.gz "
   ]
  },
  {
   "cell_type": "code",
   "execution_count": 1,
   "metadata": {},
   "outputs": [],
   "source": [
    "import requests\n",
    "\n",
    "def extract_cifar_data(url, filename=\"cifar.tar.gz\"):\n",
    "    \"\"\"A function for extracting the CIFAR-100 dataset and storing it as a gzipped file\n",
    "    \n",
    "    Arguments:\n",
    "    url      -- the URL where the dataset is hosted\n",
    "    filename -- the full path where the dataset will be written\n",
    "    \n",
    "    \"\"\"\n",
    "    r = requests.get('https://www.cs.toronto.edu/~kriz/cifar-100-python.tar.gz')\n",
    "    with open(filename, \"wb\") as file_context:\n",
    "        file_context.write(r.content)\n",
    "    return"
   ]
  },
  {
   "cell_type": "markdown",
   "metadata": {},
   "source": [
    "Let's test it out! Run the following cell and check whether a new file `cifar.tar.gz` is created in the file explorer."
   ]
  },
  {
   "cell_type": "code",
   "execution_count": 2,
   "metadata": {},
   "outputs": [],
   "source": [
    "extract_cifar_data(\"https://www.cs.toronto.edu/~kriz/cifar-100-python.tar.gz\")     "
   ]
  },
  {
   "cell_type": "markdown",
   "metadata": {},
   "source": [
    "### 2. Transform the data into a usable shape and format\n",
    "\n",
    "Clearly, distributing the data as a gzipped archive makes sense for the hosting service! It saves on bandwidth, storage, and it's a widely-used archive format. In fact, it's so widely used that the Python community ships a utility for working with them, `tarfile`, as part of its Standard Library. Execute the following cell to decompress your extracted dataset:"
   ]
  },
  {
   "cell_type": "code",
   "execution_count": 3,
   "metadata": {},
   "outputs": [],
   "source": [
    "import tarfile\n",
    "\n",
    "with tarfile.open(\"cifar.tar.gz\", \"r:gz\") as tar:\n",
    "    tar.extractall()"
   ]
  },
  {
   "cell_type": "markdown",
   "metadata": {},
   "source": [
    "A new folder `cifar-100-python` should be created, containing `meta`, `test`, and `train` files. These files are `pickles` and the [CIFAR homepage](https://www.cs.toronto.edu/~kriz/cifar.html) provides a simple script that can be used to load them. We've adapted the script below for you to run:"
   ]
  },
  {
   "cell_type": "code",
   "execution_count": 6,
   "metadata": {},
   "outputs": [],
   "source": [
    "import pickle\n",
    "\n",
    "with open(\"./cifar-100-python/meta\", \"rb\") as f:\n",
    "    dataset_meta = pickle.load(f, encoding='bytes')\n",
    "\n",
    "with open(\"./cifar-100-python/test\", \"rb\") as f:\n",
    "    dataset_test = pickle.load(f, encoding='bytes')\n",
    "\n",
    "with open(\"./cifar-100-python/train\", \"rb\") as f:\n",
    "    dataset_train = pickle.load(f, encoding='bytes')"
   ]
  },
  {
   "cell_type": "code",
   "execution_count": 5,
   "metadata": {},
   "outputs": [
    {
     "data": {
      "text/plain": [
       "dict_keys([b'filenames', b'batch_label', b'fine_labels', b'coarse_labels', b'data'])"
      ]
     },
     "execution_count": 5,
     "metadata": {},
     "output_type": "execute_result"
    }
   ],
   "source": [
    "# Feel free to explore the datasets\n",
    "\n",
    "dataset_train.keys()"
   ]
  },
  {
   "cell_type": "markdown",
   "metadata": {},
   "source": [
    "As documented on the homepage, `b'data'` contains rows of 3073 unsigned integers, representing three channels (red, green, and blue) for one 32x32 pixel image per row."
   ]
  },
  {
   "cell_type": "code",
   "execution_count": 6,
   "metadata": {},
   "outputs": [
    {
     "data": {
      "text/plain": [
       "3072"
      ]
     },
     "execution_count": 6,
     "metadata": {},
     "output_type": "execute_result"
    }
   ],
   "source": [
    "32*32*3"
   ]
  },
  {
   "cell_type": "markdown",
   "metadata": {},
   "source": [
    "For a simple gut-check, let's transform one of our images. Each 1024 items in a row is a channel (red, green, then blue). Each 32 items in the channel are a row in the 32x32 image. Using python, we can stack these channels into a 32x32x3 array, and save it as a PNG file:"
   ]
  },
  {
   "cell_type": "code",
   "execution_count": 7,
   "metadata": {},
   "outputs": [],
   "source": [
    "import numpy as np\n",
    "\n",
    "# Each 1024 in a row is a channel (red, green, then blue)\n",
    "row = dataset_train[b'data'][0]\n",
    "red, green, blue = row[0:1024], row[1024:2048], row[2048:]\n",
    "\n",
    "# Each 32 items in the channel are a row in the 32x32 image\n",
    "red = red.reshape(32,32)\n",
    "green = green.reshape(32,32)\n",
    "blue = blue.reshape(32,32)\n",
    "\n",
    "# Combine the channels into a 32x32x3 image!\n",
    "combined = np.dstack((red,green,blue))"
   ]
  },
  {
   "cell_type": "markdown",
   "metadata": {},
   "source": [
    "For a more concise version, consider the following:"
   ]
  },
  {
   "cell_type": "code",
   "execution_count": 8,
   "metadata": {},
   "outputs": [],
   "source": [
    "# All in one:\n",
    "test_image = np.dstack((\n",
    "    row[0:1024].reshape(32,32),\n",
    "    row[1024:2048].reshape(32,32),\n",
    "    row[2048:].reshape(32,32)\n",
    "))"
   ]
  },
  {
   "cell_type": "code",
   "execution_count": 9,
   "metadata": {},
   "outputs": [
    {
     "name": "stderr",
     "output_type": "stream",
     "text": [
      "Matplotlib is building the font cache; this may take a moment.\n"
     ]
    },
    {
     "data": {
      "image/png": "[encoded data removed]",
      "text/plain": [
       "<Figure size 432x288 with 1 Axes>"
      ]
     },
     "metadata": {
      "needs_background": "light"
     },
     "output_type": "display_data"
    }
   ],
   "source": [
    "import matplotlib.pyplot as plt\n",
    "plt.imshow(test_image);"
   ]
  },
  {
   "cell_type": "markdown",
   "metadata": {},
   "source": [
    "Looks like a cow! Let's check the label. `dataset_meta` contains label names in order, and `dataset_train` has a list of labels for each row."
   ]
  },
  {
   "cell_type": "code",
   "execution_count": 10,
   "metadata": {},
   "outputs": [
    {
     "data": {
      "text/plain": [
       "19"
      ]
     },
     "execution_count": 10,
     "metadata": {},
     "output_type": "execute_result"
    }
   ],
   "source": [
    "dataset_train[b'fine_labels'][0]"
   ]
  },
  {
   "cell_type": "markdown",
   "metadata": {},
   "source": [
    "Our image has a label of `19`, so let's see what the 19th item is in the list of label names."
   ]
  },
  {
   "cell_type": "code",
   "execution_count": 11,
   "metadata": {},
   "outputs": [
    {
     "name": "stdout",
     "output_type": "stream",
     "text": [
      "b'cattle'\n"
     ]
    }
   ],
   "source": [
    "print(dataset_meta[b'fine_label_names'][19])"
   ]
  },
  {
   "cell_type": "markdown",
   "metadata": {},
   "source": [
    "Ok! 'cattle' sounds about right. By the way, using the previous two lines we can do:"
   ]
  },
  {
   "cell_type": "code",
   "execution_count": 12,
   "metadata": {},
   "outputs": [
    {
     "name": "stdout",
     "output_type": "stream",
     "text": [
      "b'cattle'\n"
     ]
    }
   ],
   "source": [
    "n = 0\n",
    "print(dataset_meta[b'fine_label_names'][dataset_train[b'fine_labels'][n]])"
   ]
  },
  {
   "cell_type": "markdown",
   "metadata": {},
   "source": [
    "Now we know how to check labels, is there a way that we can also check file names? `dataset_train` also contains a `b'filenames'` key. Let's see what we have here:"
   ]
  },
  {
   "cell_type": "code",
   "execution_count": 13,
   "metadata": {},
   "outputs": [
    {
     "name": "stdout",
     "output_type": "stream",
     "text": [
      "b'bos_taurus_s_000507.png'\n"
     ]
    }
   ],
   "source": [
    "print(dataset_train[b'filenames'][0])"
   ]
  },
  {
   "cell_type": "markdown",
   "metadata": {},
   "source": [
    "\"Taurus\" is the name of a subspecies of cattle, so this looks like a pretty reasonable filename. To save an image we can also do:"
   ]
  },
  {
   "cell_type": "code",
   "execution_count": 14,
   "metadata": {},
   "outputs": [],
   "source": [
    "plt.imsave(\"file.png\", test_image)"
   ]
  },
  {
   "cell_type": "markdown",
   "metadata": {},
   "source": [
    "Your new PNG file should now appear in the file explorer -- go ahead and pop it open to see!\n",
    "\n",
    "Now that you know how to reshape the images, save them as files, and capture their filenames and labels, let's just capture all the bicycles and motorcycles and save them. Scones Unlimited can use a model that tells these apart to route delivery drivers automatically.\n",
    "\n",
    "In the following cell, identify the label numbers for Bicycles and Motorcycles:"
   ]
  },
  {
   "cell_type": "code",
   "execution_count": 8,
   "metadata": {},
   "outputs": [
    {
     "name": "stdout",
     "output_type": "stream",
     "text": [
      "Bicycle: 8\n",
      "Motorcycles: 48\n"
     ]
    }
   ],
   "source": [
    "import pandas as pd\n",
    "\n",
    "# Todo: Filter the dataset_train and dataset_meta objects to find the label numbers for Bicycle and Motorcycles\n",
    "print(\"Bicycle: \" + str(dataset_meta[b'fine_label_names'].index(b'bicycle')))\n",
    "print(\"Motorcycles: \" + str(dataset_meta[b'fine_label_names'].index(b'motorcycle')))"
   ]
  },
  {
   "cell_type": "markdown",
   "metadata": {},
   "source": [
    "Good job! We only need objects with label 8 and 48 -- this drastically simplifies our handling of the data! Below we construct a dataframe for you, and you can safely drop the rows that don't contain observations about bicycles and motorcycles. Fill in the missing lines below to drop all other rows:"
   ]
  },
  {
   "cell_type": "code",
   "execution_count": 9,
   "metadata": {},
   "outputs": [],
   "source": [
    "#Construct the dataframe\n",
    "df_train = pd.DataFrame({\n",
    "    \"filenames\": dataset_train[b'filenames'],\n",
    "    \"labels\": dataset_train[b'fine_labels'],\n",
    "    \"row\": range(len(dataset_train[b'filenames']))\n",
    "})\n",
    "\n",
    "# Drop all rows from df_train where label is not 8 or 48\n",
    "df_train = df_train[df_train['labels'].isin([8, 48])]\n",
    "\n",
    "# Decode df_train.filenames so they are regular strings\n",
    "df_train[\"filenames\"] = df_train[\"filenames\"].apply(\n",
    "    lambda x: x.decode(\"utf-8\")\n",
    ")\n",
    "\n",
    "df_test = pd.DataFrame({\n",
    "    \"filenames\": dataset_test[b'filenames'],\n",
    "    \"labels\": dataset_test[b'fine_labels'],\n",
    "    \"row\": range(len(dataset_test[b'filenames']))\n",
    "})\n",
    "\n",
    "# Drop all rows from df_test where label is not 8 or 48\n",
    "df_test = df_test[df_test['labels'].isin([8, 48])]\n",
    "\n",
    "# Decode df_test.filenames so they are regular strings\n",
    "df_test[\"filenames\"] = df_test[\"filenames\"].apply(\n",
    "    lambda x: x.decode(\"utf-8\")\n",
    ")"
   ]
  },
  {
   "cell_type": "markdown",
   "metadata": {},
   "source": [
    "Now that the data is filtered for just our classes, we can save all our images."
   ]
  },
  {
   "cell_type": "code",
   "execution_count": 17,
   "metadata": {},
   "outputs": [
    {
     "name": "stdout",
     "output_type": "stream",
     "text": [
      "mkdir: cannot create directory ‘./train’: File exists\n",
      "mkdir: cannot create directory ‘./test’: File exists\n"
     ]
    }
   ],
   "source": [
    "!mkdir ./train\n",
    "!mkdir ./test"
   ]
  },
  {
   "cell_type": "markdown",
   "metadata": {},
   "source": [
    "In the previous sections we introduced you to several key snippets of code:\n",
    "\n",
    "1. Grabbing the image data:\n",
    "\n",
    "```python\n",
    "dataset_train[b'data'][0]\n",
    "```\n",
    "\n",
    "2. A simple idiom for stacking the image data into the right shape\n",
    "\n",
    "```python\n",
    "import numpy as np\n",
    "np.dstack((\n",
    "    row[0:1024].reshape(32,32),\n",
    "    row[1024:2048].reshape(32,32),\n",
    "    row[2048:].reshape(32,32)\n",
    "))\n",
    "```\n",
    "\n",
    "3. A simple `matplotlib` utility for saving images\n",
    "\n",
    "```python\n",
    "plt.imsave(path+row['filenames'], target)\n",
    "```\n",
    "\n",
    "Compose these together into a function that saves all the images into the `./test` and `./train` directories. Use the comments in the body of the `save_images` function below to guide your construction of the function:\n"
   ]
  },
  {
   "cell_type": "code",
   "execution_count": 20,
   "metadata": {},
   "outputs": [],
   "source": [
    "def save_images(dataset, n, path):\n",
    "    #Grab the image data in row-major form\n",
    "    img = dataset[b'data'][n] \n",
    "    \n",
    "    # Consolidated stacking/reshaping from earlier\n",
    "    target = np.dstack((\n",
    "        img[0:1024].reshape(32,32),\n",
    "        img[1024:2048].reshape(32,32),\n",
    "        img[2048:].reshape(32,32)\n",
    "    ))\n",
    "    \n",
    "    # Save the image\n",
    "    filename = dataset[b'filenames'][n].decode(\"utf-8\")\n",
    "    image_path = \"{}/{}\".format(path, filename)\n",
    "    plt.imsave(image_path, target)\n",
    "    \n",
    "    # Return any signal data you want for debugging\n",
    "    return filename\n",
    "\n",
    "for i, row in df_train.iterrows():\n",
    "    save_images(dataset_train, i, \"train\")\n",
    "    \n",
    "for i, row in df_test.iterrows():\n",
    "    save_images(dataset_test, i, \"test\")"
   ]
  },
  {
   "cell_type": "markdown",
   "metadata": {},
   "source": [
    "### 3. Load the data\n",
    "\n",
    "Now we can load the data into S3.\n",
    "\n",
    "Using the sagemaker SDK grab the current region, execution role, and bucket."
   ]
  },
  {
   "cell_type": "code",
   "execution_count": 2,
   "metadata": {},
   "outputs": [
    {
     "name": "stdout",
     "output_type": "stream",
     "text": [
      "Default Bucket: sagemaker-us-east-1-650327132687\n",
      "AWS Region: us-east-1\n",
      "RoleArn: arn:aws:iam::650327132687:role/service-role/AmazonSageMaker-ExecutionRole-20220808T232545\n"
     ]
    }
   ],
   "source": [
    "import sagemaker\n",
    "from sagemaker import get_execution_role\n",
    "\n",
    "session = sagemaker.Session()\n",
    "bucket = session.default_bucket()\n",
    "region = session.boto_region_name\n",
    "role = get_execution_role()\n",
    "\n",
    "print(\"Default Bucket: {}\".format(bucket))\n",
    "\n",
    "print(\"AWS Region: {}\".format(region))\n",
    "\n",
    "print(\"RoleArn: {}\".format(role))"
   ]
  },
  {
   "cell_type": "markdown",
   "metadata": {},
   "source": [
    "With this data we can easily sync your data up into S3!"
   ]
  },
  {
   "cell_type": "code",
   "execution_count": null,
   "metadata": {},
   "outputs": [],
   "source": [
    "import os\n",
    "\n",
    "os.environ[\"DEFAULT_S3_BUCKET\"] = bucket\n",
    "!aws s3 sync ./train s3://${DEFAULT_S3_BUCKET}/train/\n",
    "!aws s3 sync ./test s3://${DEFAULT_S3_BUCKET}/test/"
   ]
  },
  {
   "cell_type": "markdown",
   "metadata": {},
   "source": [
    "And that's it! You can check the bucket and verify that the items were uploaded.\n",
    "\n",
    "## Model Training\n",
    "\n",
    "For Image Classification, Sagemaker [also expects metadata](https://docs.aws.amazon.com/sagemaker/latest/dg/image-classification.html) e.g. in the form of TSV files with labels and filepaths. We can generate these using our Pandas DataFrames from earlier:"
   ]
  },
  {
   "cell_type": "code",
   "execution_count": 27,
   "metadata": {},
   "outputs": [],
   "source": [
    "def to_metadata_file(df, prefix):\n",
    "    df[\"s3_path\"] = df[\"filenames\"]\n",
    "    df[\"labels\"] = df[\"labels\"].apply(lambda x: 0 if x==8 else 1)\n",
    "    return df[[\"row\", \"labels\", \"s3_path\"]].to_csv(\n",
    "        f\"{prefix}.lst\", sep=\"\\t\", index=False, header=False\n",
    "    )\n",
    "    \n",
    "to_metadata_file(df_train.copy(), \"train\")\n",
    "to_metadata_file(df_test.copy(), \"test\")"
   ]
  },
  {
   "cell_type": "markdown",
   "metadata": {},
   "source": [
    "We can also upload our manifest files:"
   ]
  },
  {
   "cell_type": "code",
   "execution_count": 28,
   "metadata": {},
   "outputs": [],
   "source": [
    "import boto3\n",
    "\n",
    "# Upload files\n",
    "boto3.Session().resource('s3').Bucket(\n",
    "    bucket).Object('train.lst').upload_file('./train.lst')\n",
    "boto3.Session().resource('s3').Bucket(\n",
    "    bucket).Object('test.lst').upload_file('./test.lst')"
   ]
  },
  {
   "cell_type": "markdown",
   "metadata": {},
   "source": [
    "Using the `bucket` and `region` info we can get the latest prebuilt container to run our training job, and define an output location on our s3 bucket for the model. Use the `image_uris` function from the SageMaker SDK to retrieve the latest `image-classification` image below:"
   ]
  },
  {
   "cell_type": "code",
   "execution_count": 10,
   "metadata": {},
   "outputs": [],
   "source": [
    "# Use the image_uris function to retrieve the latest 'image-classification' image\n",
    "from sagemaker import image_uris\n",
    "\n",
    "algo_image = image_uris.retrieve(framework='image-classification', region=region)\n",
    "s3_output_location = f\"s3://{bucket}/models/image_model\""
   ]
  },
  {
   "cell_type": "markdown",
   "metadata": {},
   "source": [
    "We're ready to create an estimator! Create an estimator `img_classifier_model` that uses one instance of `ml.p3.2xlarge`. Ensure that y ou use the output location we defined above - we'll be referring to that later!"
   ]
  },
  {
   "cell_type": "code",
   "execution_count": 11,
   "metadata": {},
   "outputs": [],
   "source": [
    "img_classifier_model = sagemaker.estimator.Estimator(\n",
    "                                    algo_image,\n",
    "                                    role,\n",
    "                                    instance_count=1,\n",
    "                                    instance_type='ml.p3.2xlarge',    \n",
    "                                    output_path=s3_output_location,\n",
    "                                    sagemaker_session=session)"
   ]
  },
  {
   "cell_type": "markdown",
   "metadata": {},
   "source": [
    "We can also set a few key hyperparameters and define the inputs for our model:"
   ]
  },
  {
   "cell_type": "code",
   "execution_count": 12,
   "metadata": {},
   "outputs": [],
   "source": [
    "img_classifier_model.set_hyperparameters(\n",
    "    image_shape='3,32,32', \n",
    "    num_classes=2, \n",
    "    num_training_samples=len(df_train) \n",
    ")"
   ]
  },
  {
   "cell_type": "markdown",
   "metadata": {},
   "source": [
    "The `image-classification` image uses four input channels with very specific input parameters. For convenience, we've provided them below:"
   ]
  },
  {
   "cell_type": "code",
   "execution_count": 13,
   "metadata": {},
   "outputs": [],
   "source": [
    "from sagemaker.debugger import Rule, rule_configs\n",
    "from sagemaker.session import TrainingInput\n",
    "model_inputs = {\n",
    "        \"train\": sagemaker.inputs.TrainingInput(\n",
    "            s3_data=f\"s3://{bucket}/train/\",\n",
    "            content_type=\"application/x-image\"\n",
    "        ),\n",
    "        \"validation\": sagemaker.inputs.TrainingInput(\n",
    "            s3_data=f\"s3://{bucket}/test/\",\n",
    "            content_type=\"application/x-image\"\n",
    "        ),\n",
    "        \"train_lst\": sagemaker.inputs.TrainingInput(\n",
    "            s3_data=f\"s3://{bucket}/train.lst\",\n",
    "            content_type=\"application/x-image\"\n",
    "        ),\n",
    "        \"validation_lst\": sagemaker.inputs.TrainingInput(\n",
    "            s3_data=f\"s3://{bucket}/test.lst\",\n",
    "            content_type=\"application/x-image\"\n",
    "        )\n",
    "}"
   ]
  },
  {
   "cell_type": "markdown",
   "metadata": {},
   "source": [
    "Great, now we can train the model using the model_inputs. In the cell below, call the `fit` method on our model,:"
   ]
  },
  {
   "cell_type": "code",
   "execution_count": 14,
   "metadata": {},
   "outputs": [
    {
     "name": "stdout",
     "output_type": "stream",
     "text": [
      "2022-08-24 01:53:54 Starting - Starting the training job...\n",
      "2022-08-24 01:54:20 Starting - Preparing the instances for trainingProfilerReport-1661306034: InProgress\n",
      ".........\n",
      "2022-08-24 01:55:55 Downloading - Downloading input data......\n",
      "2022-08-24 01:56:38 Training - Downloading the training image.......\u001b[34mDocker entrypoint called with argument(s): train\u001b[0m\n",
      "\u001b[34m[08/24/2022 01:58:02 INFO 140560523634496] Reading default configuration from /opt/amazon/lib/python3.7/site-packages/image_classification/default-input.json: {'use_pretrained_model': 0, 'num_layers': 152, 'epochs': 30, 'learning_rate': 0.1, 'lr_scheduler_factor': 0.1, 'optimizer': 'sgd', 'momentum': 0, 'weight_decay': 0.0001, 'beta_1': 0.9, 'beta_2': 0.999, 'eps': 1e-08, 'gamma': 0.9, 'mini_batch_size': 32, 'image_shape': '3,224,224', 'precision_dtype': 'float32'}\u001b[0m\n",
      "\u001b[34m[08/24/2022 01:58:02 INFO 140560523634496] Merging with provided configuration from /opt/ml/input/config/hyperparameters.json: {'image_shape': '3,32,32', 'num_classes': '2', 'num_training_samples': '1000'}\u001b[0m\n",
      "\u001b[34m[08/24/2022 01:58:02 INFO 140560523634496] Final configuration: {'use_pretrained_model': 0, 'num_layers': 152, 'epochs': 30, 'learning_rate': 0.1, 'lr_scheduler_factor': 0.1, 'optimizer': 'sgd', 'momentum': 0, 'weight_decay': 0.0001, 'beta_1': 0.9, 'beta_2': 0.999, 'eps': 1e-08, 'gamma': 0.9, 'mini_batch_size': 32, 'image_shape': '3,32,32', 'precision_dtype': 'float32', 'num_classes': '2', 'num_training_samples': '1000'}\u001b[0m\n",
      "\u001b[34m[08/24/2022 01:58:02 INFO 140560523634496] Searching for .lst files in /opt/ml/input/data/train_lst.\u001b[0m\n",
      "\u001b[34m[08/24/2022 01:58:02 INFO 140560523634496] Creating record files for train.lst\u001b[0m\n",
      "\u001b[34m[08/24/2022 01:58:03 INFO 140560523634496] Done creating record files...\u001b[0m\n",
      "\u001b[34m[08/24/2022 01:58:03 INFO 140560523634496] Searching for .lst files in /opt/ml/input/data/validation_lst.\u001b[0m\n",
      "\u001b[34m[08/24/2022 01:58:03 INFO 140560523634496] Creating record files for test.lst\u001b[0m\n",
      "\u001b[34m[08/24/2022 01:58:03 INFO 140560523634496] Done creating record files...\u001b[0m\n",
      "\u001b[34m[08/24/2022 01:58:03 INFO 140560523634496] use_pretrained_model: 0\u001b[0m\n",
      "\u001b[34m[08/24/2022 01:58:03 INFO 140560523634496] multi_label: 0\u001b[0m\n",
      "\u001b[34m[08/24/2022 01:58:03 INFO 140560523634496] Performing random weight initialization\u001b[0m\n",
      "\u001b[34m[08/24/2022 01:58:03 INFO 140560523634496] ---- Parameters ----\u001b[0m\n",
      "\u001b[34m[08/24/2022 01:58:03 INFO 140560523634496] num_layers: 152\u001b[0m\n",
      "\u001b[34m[08/24/2022 01:58:03 INFO 140560523634496] data type: <class 'numpy.float32'>\u001b[0m\n",
      "\u001b[34m[08/24/2022 01:58:03 INFO 140560523634496] epochs: 30\u001b[0m\n",
      "\u001b[34m[08/24/2022 01:58:03 INFO 140560523634496] optimizer: sgd\u001b[0m\n",
      "\u001b[34m[08/24/2022 01:58:03 INFO 140560523634496] momentum: 0.9\u001b[0m\n",
      "\u001b[34m[08/24/2022 01:58:03 INFO 140560523634496] weight_decay: 0.0001\u001b[0m\n",
      "\u001b[34m[08/24/2022 01:58:03 INFO 140560523634496] learning_rate: 0.1\u001b[0m\n",
      "\u001b[34m[08/24/2022 01:58:03 INFO 140560523634496] num_training_samples: 1000\u001b[0m\n",
      "\u001b[34m[08/24/2022 01:58:03 INFO 140560523634496] mini_batch_size: 32\u001b[0m\n",
      "\u001b[34m[08/24/2022 01:58:03 INFO 140560523634496] image_shape: 3,32,32\u001b[0m\n",
      "\u001b[34m[08/24/2022 01:58:03 INFO 140560523634496] num_classes: 2\u001b[0m\n",
      "\u001b[34m[08/24/2022 01:58:03 INFO 140560523634496] augmentation_type: None\u001b[0m\n",
      "\u001b[34m[08/24/2022 01:58:03 INFO 140560523634496] kv_store: device\u001b[0m\n",
      "\u001b[34m[08/24/2022 01:58:03 INFO 140560523634496] checkpoint_frequency not set, will store the best model\u001b[0m\n",
      "\u001b[34m[08/24/2022 01:58:03 INFO 140560523634496] --------------------\u001b[0m\n",
      "\u001b[34m[08/24/2022 01:58:03 INFO 140560523634496] Setting number of threads: 7\u001b[0m\n",
      "\n",
      "2022-08-24 01:58:18 Training - Training image download completed. Training in progress.\u001b[34m[01:58:13] /opt/brazil-pkg-cache/packages/AIAlgorithmsMXNet/AIAlgorithmsMXNet-1.4.x_ecl_Cuda_11.1.x.19.0/AL2_x86_64/generic-flavor/src/src/operator/nn/./cudnn/./cudnn_algoreg-inl.h:97: Running performance tests to find the best convolution algorithm, this can take a while... (setting env variable MXNET_CUDNN_AUTOTUNE_DEFAULT to 0 to disable)\u001b[0m\n",
      "\u001b[34m[08/24/2022 01:58:19 INFO 140560523634496] Epoch[0] Batch [20]#011Speed: 115.033 samples/sec#011accuracy=0.563988\u001b[0m\n",
      "\u001b[34m[08/24/2022 01:58:21 INFO 140560523634496] Epoch[0] Train-accuracy=0.622984\u001b[0m\n",
      "\u001b[34m[08/24/2022 01:58:21 INFO 140560523634496] Epoch[0] Time cost=7.288\u001b[0m\n",
      "\u001b[34m[08/24/2022 01:58:21 INFO 140560523634496] Epoch[0] Validation-accuracy=0.494792\u001b[0m\n",
      "\u001b[34m[08/24/2022 01:58:22 INFO 140560523634496] Storing the best model with validation accuracy: 0.494792\u001b[0m\n",
      "\u001b[34m[08/24/2022 01:58:22 INFO 140560523634496] Saved checkpoint to \"/opt/ml/model/image-classification-0001.params\"\u001b[0m\n",
      "\u001b[34m[08/24/2022 01:58:25 INFO 140560523634496] Epoch[1] Batch [20]#011Speed: 180.815 samples/sec#011accuracy=0.700893\u001b[0m\n",
      "\u001b[34m[08/24/2022 01:58:27 INFO 140560523634496] Epoch[1] Train-accuracy=0.693548\u001b[0m\n",
      "\u001b[34m[08/24/2022 01:58:27 INFO 140560523634496] Epoch[1] Time cost=5.270\u001b[0m\n",
      "\u001b[34m[08/24/2022 01:58:28 INFO 140560523634496] Epoch[1] Validation-accuracy=0.630208\u001b[0m\n",
      "\u001b[34m[08/24/2022 01:58:28 INFO 140560523634496] Storing the best model with validation accuracy: 0.630208\u001b[0m\n",
      "\u001b[34m[08/24/2022 01:58:28 INFO 140560523634496] Saved checkpoint to \"/opt/ml/model/image-classification-0002.params\"\u001b[0m\n",
      "\u001b[34m[08/24/2022 01:58:32 INFO 140560523634496] Epoch[2] Batch [20]#011Speed: 180.532 samples/sec#011accuracy=0.636905\u001b[0m\n",
      "\u001b[34m[08/24/2022 01:58:34 INFO 140560523634496] Epoch[2] Train-accuracy=0.644153\u001b[0m\n",
      "\u001b[34m[08/24/2022 01:58:34 INFO 140560523634496] Epoch[2] Time cost=5.287\u001b[0m\n",
      "\u001b[34m[08/24/2022 01:58:34 INFO 140560523634496] Epoch[2] Validation-accuracy=0.770833\u001b[0m\n",
      "\u001b[34m[08/24/2022 01:58:35 INFO 140560523634496] Storing the best model with validation accuracy: 0.770833\u001b[0m\n",
      "\u001b[34m[08/24/2022 01:58:35 INFO 140560523634496] Saved checkpoint to \"/opt/ml/model/image-classification-0003.params\"\u001b[0m\n",
      "\u001b[34m[08/24/2022 01:58:38 INFO 140560523634496] Epoch[3] Batch [20]#011Speed: 182.698 samples/sec#011accuracy=0.721726\u001b[0m\n",
      "\u001b[34m[08/24/2022 01:58:40 INFO 140560523634496] Epoch[3] Train-accuracy=0.758065\u001b[0m\n",
      "\u001b[34m[08/24/2022 01:58:40 INFO 140560523634496] Epoch[3] Time cost=5.219\u001b[0m\n",
      "\u001b[34m[08/24/2022 01:58:41 INFO 140560523634496] Epoch[3] Validation-accuracy=0.767857\u001b[0m\n",
      "\u001b[34m[08/24/2022 01:58:45 INFO 140560523634496] Epoch[4] Batch [20]#011Speed: 178.415 samples/sec#011accuracy=0.764881\u001b[0m\n",
      "\u001b[34m[08/24/2022 01:58:47 INFO 140560523634496] Epoch[4] Train-accuracy=0.766129\u001b[0m\n",
      "\u001b[34m[08/24/2022 01:58:47 INFO 140560523634496] Epoch[4] Time cost=5.314\u001b[0m\n",
      "\u001b[34m[08/24/2022 01:58:47 INFO 140560523634496] Epoch[4] Validation-accuracy=0.796875\u001b[0m\n",
      "\u001b[34m[08/24/2022 01:58:47 INFO 140560523634496] Storing the best model with validation accuracy: 0.796875\u001b[0m\n",
      "\u001b[34m[08/24/2022 01:58:48 INFO 140560523634496] Saved checkpoint to \"/opt/ml/model/image-classification-0005.params\"\u001b[0m\n",
      "\u001b[34m[08/24/2022 01:58:51 INFO 140560523634496] Epoch[5] Batch [20]#011Speed: 181.015 samples/sec#011accuracy=0.766369\u001b[0m\n",
      "\u001b[34m[08/24/2022 01:58:53 INFO 140560523634496] Epoch[5] Train-accuracy=0.768145\u001b[0m\n",
      "\u001b[34m[08/24/2022 01:58:53 INFO 140560523634496] Epoch[5] Time cost=5.251\u001b[0m\n",
      "\u001b[34m[08/24/2022 01:58:54 INFO 140560523634496] Epoch[5] Validation-accuracy=0.817708\u001b[0m\n",
      "\u001b[34m[08/24/2022 01:58:54 INFO 140560523634496] Storing the best model with validation accuracy: 0.817708\u001b[0m\n",
      "\u001b[34m[08/24/2022 01:58:54 INFO 140560523634496] Saved checkpoint to \"/opt/ml/model/image-classification-0006.params\"\u001b[0m\n",
      "\u001b[34m[08/24/2022 01:58:58 INFO 140560523634496] Epoch[6] Batch [20]#011Speed: 181.222 samples/sec#011accuracy=0.825893\u001b[0m\n",
      "\u001b[34m[08/24/2022 01:59:00 INFO 140560523634496] Epoch[6] Train-accuracy=0.814516\u001b[0m\n",
      "\u001b[34m[08/24/2022 01:59:00 INFO 140560523634496] Epoch[6] Time cost=5.277\u001b[0m\n",
      "\u001b[34m[08/24/2022 01:59:00 INFO 140560523634496] Epoch[6] Validation-accuracy=0.781250\u001b[0m\n",
      "\u001b[34m[08/24/2022 01:59:04 INFO 140560523634496] Epoch[7] Batch [20]#011Speed: 176.679 samples/sec#011accuracy=0.799107\u001b[0m\n",
      "\u001b[34m[08/24/2022 01:59:06 INFO 140560523634496] Epoch[7] Train-accuracy=0.801411\u001b[0m\n",
      "\u001b[34m[08/24/2022 01:59:06 INFO 140560523634496] Epoch[7] Time cost=5.426\u001b[0m\n",
      "\u001b[34m[08/24/2022 01:59:07 INFO 140560523634496] Epoch[7] Validation-accuracy=0.825893\u001b[0m\n",
      "\u001b[34m[08/24/2022 01:59:07 INFO 140560523634496] Storing the best model with validation accuracy: 0.825893\u001b[0m\n",
      "\u001b[34m[08/24/2022 01:59:07 INFO 140560523634496] Saved checkpoint to \"/opt/ml/model/image-classification-0008.params\"\u001b[0m\n",
      "\u001b[34m[08/24/2022 01:59:11 INFO 140560523634496] Epoch[8] Batch [20]#011Speed: 179.511 samples/sec#011accuracy=0.808036\u001b[0m\n",
      "\u001b[34m[08/24/2022 01:59:13 INFO 140560523634496] Epoch[8] Train-accuracy=0.817540\u001b[0m\n",
      "\u001b[34m[08/24/2022 01:59:13 INFO 140560523634496] Epoch[8] Time cost=5.286\u001b[0m\n",
      "\u001b[34m[08/24/2022 01:59:13 INFO 140560523634496] Epoch[8] Validation-accuracy=0.817708\u001b[0m\n",
      "\u001b[34m[08/24/2022 01:59:17 INFO 140560523634496] Epoch[9] Batch [20]#011Speed: 179.048 samples/sec#011accuracy=0.831845\u001b[0m\n",
      "\u001b[34m[08/24/2022 01:59:19 INFO 140560523634496] Epoch[9] Train-accuracy=0.825605\u001b[0m\n",
      "\u001b[34m[08/24/2022 01:59:19 INFO 140560523634496] Epoch[9] Time cost=5.298\u001b[0m\n",
      "\u001b[34m[08/24/2022 01:59:20 INFO 140560523634496] Epoch[9] Validation-accuracy=0.833333\u001b[0m\n",
      "\u001b[34m[08/24/2022 01:59:20 INFO 140560523634496] Storing the best model with validation accuracy: 0.833333\u001b[0m\n",
      "\u001b[34m[08/24/2022 01:59:20 INFO 140560523634496] Saved checkpoint to \"/opt/ml/model/image-classification-0010.params\"\u001b[0m\n",
      "\u001b[34m[08/24/2022 01:59:24 INFO 140560523634496] Epoch[10] Batch [20]#011Speed: 179.820 samples/sec#011accuracy=0.822917\u001b[0m\n",
      "\u001b[34m[08/24/2022 01:59:26 INFO 140560523634496] Epoch[10] Train-accuracy=0.819556\u001b[0m\n",
      "\u001b[34m[08/24/2022 01:59:26 INFO 140560523634496] Epoch[10] Time cost=5.295\u001b[0m\n",
      "\u001b[34m[08/24/2022 01:59:26 INFO 140560523634496] Epoch[10] Validation-accuracy=0.822917\u001b[0m\n",
      "\u001b[34m[08/24/2022 01:59:30 INFO 140560523634496] Epoch[11] Batch [20]#011Speed: 178.915 samples/sec#011accuracy=0.837798\u001b[0m\n",
      "\u001b[34m[08/24/2022 01:59:32 INFO 140560523634496] Epoch[11] Train-accuracy=0.838710\u001b[0m\n",
      "\u001b[34m[08/24/2022 01:59:32 INFO 140560523634496] Epoch[11] Time cost=5.309\u001b[0m\n",
      "\u001b[34m[08/24/2022 01:59:33 INFO 140560523634496] Epoch[11] Validation-accuracy=0.830357\u001b[0m\n",
      "\u001b[34m[08/24/2022 01:59:37 INFO 140560523634496] Epoch[12] Batch [20]#011Speed: 179.917 samples/sec#011accuracy=0.854167\u001b[0m\n",
      "\u001b[34m[08/24/2022 01:59:38 INFO 140560523634496] Epoch[12] Train-accuracy=0.846774\u001b[0m\n",
      "\u001b[34m[08/24/2022 01:59:38 INFO 140560523634496] Epoch[12] Time cost=5.291\u001b[0m\n",
      "\u001b[34m[08/24/2022 01:59:39 INFO 140560523634496] Epoch[12] Validation-accuracy=0.843750\u001b[0m\n",
      "\u001b[34m[08/24/2022 01:59:39 INFO 140560523634496] Storing the best model with validation accuracy: 0.843750\u001b[0m\n",
      "\u001b[34m[08/24/2022 01:59:40 INFO 140560523634496] Saved checkpoint to \"/opt/ml/model/image-classification-0013.params\"\u001b[0m\n",
      "\u001b[34m[08/24/2022 01:59:43 INFO 140560523634496] Epoch[13] Batch [20]#011Speed: 180.597 samples/sec#011accuracy=0.816964\u001b[0m\n",
      "\u001b[34m[08/24/2022 01:59:45 INFO 140560523634496] Epoch[13] Train-accuracy=0.834677\u001b[0m\n",
      "\u001b[34m[08/24/2022 01:59:45 INFO 140560523634496] Epoch[13] Time cost=5.280\u001b[0m\n",
      "\u001b[34m[08/24/2022 01:59:45 INFO 140560523634496] Epoch[13] Validation-accuracy=0.828125\u001b[0m\n",
      "\u001b[34m[08/24/2022 01:59:49 INFO 140560523634496] Epoch[14] Batch [20]#011Speed: 181.733 samples/sec#011accuracy=0.891369\u001b[0m\n",
      "\u001b[34m[08/24/2022 01:59:51 INFO 140560523634496] Epoch[14] Train-accuracy=0.882056\u001b[0m\n",
      "\u001b[34m[08/24/2022 01:59:51 INFO 140560523634496] Epoch[14] Time cost=5.263\u001b[0m\n",
      "\u001b[34m[08/24/2022 01:59:52 INFO 140560523634496] Epoch[14] Validation-accuracy=0.833333\u001b[0m\n",
      "\u001b[34m[08/24/2022 01:59:56 INFO 140560523634496] Epoch[15] Batch [20]#011Speed: 179.623 samples/sec#011accuracy=0.885417\u001b[0m\n",
      "\u001b[34m[08/24/2022 01:59:57 INFO 140560523634496] Epoch[15] Train-accuracy=0.872984\u001b[0m\n",
      "\u001b[34m[08/24/2022 01:59:57 INFO 140560523634496] Epoch[15] Time cost=5.303\u001b[0m\n",
      "\u001b[34m[08/24/2022 01:59:58 INFO 140560523634496] Epoch[15] Validation-accuracy=0.821429\u001b[0m\n",
      "\u001b[34m[08/24/2022 02:00:02 INFO 140560523634496] Epoch[16] Batch [20]#011Speed: 177.015 samples/sec#011accuracy=0.898810\u001b[0m\n",
      "\u001b[34m[08/24/2022 02:00:04 INFO 140560523634496] Epoch[16] Train-accuracy=0.875000\u001b[0m\n",
      "\u001b[34m[08/24/2022 02:00:04 INFO 140560523634496] Epoch[16] Time cost=5.403\u001b[0m\n",
      "\u001b[34m[08/24/2022 02:00:04 INFO 140560523634496] Epoch[16] Validation-accuracy=0.770833\u001b[0m\n",
      "\u001b[34m[08/24/2022 02:00:09 INFO 140560523634496] Epoch[17] Batch [20]#011Speed: 180.320 samples/sec#011accuracy=0.900298\u001b[0m\n",
      "\u001b[34m[08/24/2022 02:00:10 INFO 140560523634496] Epoch[17] Train-accuracy=0.906250\u001b[0m\n",
      "\u001b[34m[08/24/2022 02:00:10 INFO 140560523634496] Epoch[17] Time cost=5.273\u001b[0m\n",
      "\u001b[34m[08/24/2022 02:00:11 INFO 140560523634496] Epoch[17] Validation-accuracy=0.854167\u001b[0m\n",
      "\u001b[34m[08/24/2022 02:00:11 INFO 140560523634496] Storing the best model with validation accuracy: 0.854167\u001b[0m\n",
      "\u001b[34m[08/24/2022 02:00:12 INFO 140560523634496] Saved checkpoint to \"/opt/ml/model/image-classification-0018.params\"\u001b[0m\n",
      "\u001b[34m[08/24/2022 02:00:15 INFO 140560523634496] Epoch[18] Batch [20]#011Speed: 181.800 samples/sec#011accuracy=0.876488\u001b[0m\n",
      "\u001b[34m[08/24/2022 02:00:17 INFO 140560523634496] Epoch[18] Train-accuracy=0.872984\u001b[0m\n",
      "\u001b[34m[08/24/2022 02:00:17 INFO 140560523634496] Epoch[18] Time cost=5.243\u001b[0m\n",
      "\u001b[34m[08/24/2022 02:00:17 INFO 140560523634496] Epoch[18] Validation-accuracy=0.828125\u001b[0m\n",
      "\u001b[34m[08/24/2022 02:00:21 INFO 140560523634496] Epoch[19] Batch [20]#011Speed: 180.760 samples/sec#011accuracy=0.919643\u001b[0m\n",
      "\u001b[34m[08/24/2022 02:00:23 INFO 140560523634496] Epoch[19] Train-accuracy=0.923387\u001b[0m\n",
      "\u001b[34m[08/24/2022 02:00:23 INFO 140560523634496] Epoch[19] Time cost=5.258\u001b[0m\n",
      "\u001b[34m[08/24/2022 02:00:24 INFO 140560523634496] Epoch[19] Validation-accuracy=0.857143\u001b[0m\n",
      "\u001b[34m[08/24/2022 02:00:24 INFO 140560523634496] Storing the best model with validation accuracy: 0.857143\u001b[0m\n",
      "\u001b[34m[08/24/2022 02:00:25 INFO 140560523634496] Saved checkpoint to \"/opt/ml/model/image-classification-0020.params\"\u001b[0m\n",
      "\u001b[34m[08/24/2022 02:00:28 INFO 140560523634496] Epoch[20] Batch [20]#011Speed: 182.273 samples/sec#011accuracy=0.919643\u001b[0m\n",
      "\u001b[34m[08/24/2022 02:00:30 INFO 140560523634496] Epoch[20] Train-accuracy=0.908266\u001b[0m\n",
      "\u001b[34m[08/24/2022 02:00:30 INFO 140560523634496] Epoch[20] Time cost=5.224\u001b[0m\n",
      "\u001b[34m[08/24/2022 02:00:30 INFO 140560523634496] Epoch[20] Validation-accuracy=0.822917\u001b[0m\n",
      "\u001b[34m[08/24/2022 02:00:34 INFO 140560523634496] Epoch[21] Batch [20]#011Speed: 180.292 samples/sec#011accuracy=0.924107\u001b[0m\n",
      "\u001b[34m[08/24/2022 02:00:36 INFO 140560523634496] Epoch[21] Train-accuracy=0.936492\u001b[0m\n",
      "\u001b[34m[08/24/2022 02:00:36 INFO 140560523634496] Epoch[21] Time cost=5.281\u001b[0m\n",
      "\u001b[34m[08/24/2022 02:00:37 INFO 140560523634496] Epoch[21] Validation-accuracy=0.838542\u001b[0m\n",
      "\u001b[34m[08/24/2022 02:00:41 INFO 140560523634496] Epoch[22] Batch [20]#011Speed: 181.676 samples/sec#011accuracy=0.946429\u001b[0m\n",
      "\u001b[34m[08/24/2022 02:00:42 INFO 140560523634496] Epoch[22] Train-accuracy=0.931452\u001b[0m\n",
      "\u001b[34m[08/24/2022 02:00:42 INFO 140560523634496] Epoch[22] Time cost=5.245\u001b[0m\n",
      "\u001b[34m[08/24/2022 02:00:43 INFO 140560523634496] Epoch[22] Validation-accuracy=0.828125\u001b[0m\n",
      "\u001b[34m[08/24/2022 02:00:47 INFO 140560523634496] Epoch[23] Batch [20]#011Speed: 179.949 samples/sec#011accuracy=0.950893\u001b[0m\n",
      "\u001b[34m[08/24/2022 02:00:49 INFO 140560523634496] Epoch[23] Train-accuracy=0.947581\u001b[0m\n",
      "\u001b[34m[08/24/2022 02:00:49 INFO 140560523634496] Epoch[23] Time cost=5.273\u001b[0m\n",
      "\u001b[34m[08/24/2022 02:00:49 INFO 140560523634496] Epoch[23] Validation-accuracy=0.848214\u001b[0m\n",
      "\u001b[34m[08/24/2022 02:00:53 INFO 140560523634496] Epoch[24] Batch [20]#011Speed: 179.419 samples/sec#011accuracy=0.968750\u001b[0m\n",
      "\u001b[34m[08/24/2022 02:00:55 INFO 140560523634496] Epoch[24] Train-accuracy=0.969758\u001b[0m\n",
      "\u001b[34m[08/24/2022 02:00:55 INFO 140560523634496] Epoch[24] Time cost=5.307\u001b[0m\n",
      "\u001b[34m[08/24/2022 02:00:55 INFO 140560523634496] Epoch[24] Validation-accuracy=0.833333\u001b[0m\n",
      "\u001b[34m[08/24/2022 02:01:00 INFO 140560523634496] Epoch[25] Batch [20]#011Speed: 183.372 samples/sec#011accuracy=0.959821\u001b[0m\n",
      "\u001b[34m[08/24/2022 02:01:01 INFO 140560523634496] Epoch[25] Train-accuracy=0.952621\u001b[0m\n",
      "\u001b[34m[08/24/2022 02:01:01 INFO 140560523634496] Epoch[25] Time cost=5.235\u001b[0m\n",
      "\u001b[34m[08/24/2022 02:01:02 INFO 140560523634496] Epoch[25] Validation-accuracy=0.776042\u001b[0m\n",
      "\u001b[34m[08/24/2022 02:01:06 INFO 140560523634496] Epoch[26] Batch [20]#011Speed: 174.393 samples/sec#011accuracy=0.940476\u001b[0m\n",
      "\u001b[34m[08/24/2022 02:01:08 INFO 140560523634496] Epoch[26] Train-accuracy=0.944556\u001b[0m\n",
      "\u001b[34m[08/24/2022 02:01:08 INFO 140560523634496] Epoch[26] Time cost=5.383\u001b[0m\n",
      "\u001b[34m[08/24/2022 02:01:08 INFO 140560523634496] Epoch[26] Validation-accuracy=0.822917\u001b[0m\n",
      "\u001b[34m[08/24/2022 02:01:12 INFO 140560523634496] Epoch[27] Batch [20]#011Speed: 181.341 samples/sec#011accuracy=0.983631\u001b[0m\n",
      "\u001b[34m[08/24/2022 02:01:14 INFO 140560523634496] Epoch[27] Train-accuracy=0.975806\u001b[0m\n",
      "\u001b[34m[08/24/2022 02:01:14 INFO 140560523634496] Epoch[27] Time cost=5.257\u001b[0m\n",
      "\u001b[34m[08/24/2022 02:01:15 INFO 140560523634496] Epoch[27] Validation-accuracy=0.866071\u001b[0m\n",
      "\u001b[34m[08/24/2022 02:01:15 INFO 140560523634496] Storing the best model with validation accuracy: 0.866071\u001b[0m\n",
      "\u001b[34m[08/24/2022 02:01:15 INFO 140560523634496] Saved checkpoint to \"/opt/ml/model/image-classification-0028.params\"\u001b[0m\n",
      "\u001b[34m[08/24/2022 02:01:19 INFO 140560523634496] Epoch[28] Batch [20]#011Speed: 181.203 samples/sec#011accuracy=0.970238\u001b[0m\n",
      "\u001b[34m[08/24/2022 02:01:21 INFO 140560523634496] Epoch[28] Train-accuracy=0.969758\u001b[0m\n",
      "\u001b[34m[08/24/2022 02:01:21 INFO 140560523634496] Epoch[28] Time cost=5.262\u001b[0m\n",
      "\u001b[34m[08/24/2022 02:01:21 INFO 140560523634496] Epoch[28] Validation-accuracy=0.828125\u001b[0m\n",
      "\u001b[34m[08/24/2022 02:01:25 INFO 140560523634496] Epoch[29] Batch [20]#011Speed: 181.935 samples/sec#011accuracy=0.970238\u001b[0m\n",
      "\u001b[34m[08/24/2022 02:01:27 INFO 140560523634496] Epoch[29] Train-accuracy=0.963710\u001b[0m\n",
      "\u001b[34m[08/24/2022 02:01:27 INFO 140560523634496] Epoch[29] Time cost=5.247\u001b[0m\n",
      "\u001b[34m[08/24/2022 02:01:27 INFO 140560523634496] Epoch[29] Validation-accuracy=0.838542\u001b[0m\n",
      "\n",
      "2022-08-24 02:01:59 Uploading - Uploading generated training model\n",
      "2022-08-24 02:02:20 Completed - Training job completed\n",
      "ProfilerReport-1661306034: NoIssuesFound\n",
      "Training seconds: 383\n",
      "Billable seconds: 383\n"
     ]
    }
   ],
   "source": [
    "img_classifier_model.fit(model_inputs)"
   ]
  },
  {
   "cell_type": "markdown",
   "metadata": {},
   "source": [
    "If all goes well, you'll end up with a model topping out above `.8` validation accuracy. With only 1000 training samples in the CIFAR dataset, that's pretty good. We could definitely pursue data augmentation & gathering more samples to help us improve further, but for now let's proceed to deploy our model.\n",
    "\n",
    "### Getting ready to deploy\n",
    "\n",
    "To begin with, let's configure Model Monitor to track our deployment. We'll define a `DataCaptureConfig` below:"
   ]
  },
  {
   "cell_type": "code",
   "execution_count": 16,
   "metadata": {},
   "outputs": [],
   "source": [
    "from sagemaker.model_monitor import DataCaptureConfig\n",
    "\n",
    "data_capture_config = DataCaptureConfig(\n",
    "    enable_capture=True,\n",
    "    sampling_percentage=100,\n",
    "    destination_s3_uri=f\"s3://{bucket}/data_capture\"\n",
    ")"
   ]
  },
  {
   "cell_type": "markdown",
   "metadata": {},
   "source": [
    "Note the `destination_s3_uri` parameter: At the end of the project, we can explore the `data_capture` directory in S3 to find crucial data about the inputs and outputs Model Monitor has observed on our model endpoint over time.\n",
    "\n",
    "With that done, deploy your model on a single `ml.m5.xlarge` instance with the data capture config attached:"
   ]
  },
  {
   "cell_type": "code",
   "execution_count": 17,
   "metadata": {},
   "outputs": [
    {
     "name": "stdout",
     "output_type": "stream",
     "text": [
      "-----------------!image-classification-2022-08-24-02-04-12-325\n"
     ]
    }
   ],
   "source": [
    "deployment = img_classifier_model.deploy(\n",
    "    initial_instance_count=1, \n",
    "    instance_type=\"ml.m5.xlarge\",\n",
    "    data_capture_config=data_capture_config\n",
    ")\n",
    "\n",
    "endpoint = deployment.endpoint_name\n",
    "print(endpoint)"
   ]
  },
  {
   "cell_type": "markdown",
   "metadata": {},
   "source": [
    "Note the endpoint name for later as well.\n",
    "\n",
    "Next, instantiate a Predictor:"
   ]
  },
  {
   "cell_type": "code",
   "execution_count": 18,
   "metadata": {},
   "outputs": [],
   "source": [
    "from sagemaker.predictor import Predictor\n",
    "predictor = Predictor(\"image-classification-2022-08-24-02-04-12-325\")"
   ]
  },
  {
   "cell_type": "markdown",
   "metadata": {},
   "source": [
    "In the code snippet below we are going to prepare one of your saved images for prediction. Use the predictor to process the `payload`."
   ]
  },
  {
   "cell_type": "code",
   "execution_count": 19,
   "metadata": {},
   "outputs": [],
   "source": [
    "from sagemaker.serializers import IdentitySerializer\n",
    "import base64\n",
    "\n",
    "predictor.serializer = IdentitySerializer(\"image/png\")\n",
    "with open(\"./test/bicycle_s_001789.png\", \"rb\") as f:\n",
    "    payload = f.read()\n",
    "\n",
    "inference = predictor.predict(payload)"
   ]
  },
  {
   "cell_type": "markdown",
   "metadata": {},
   "source": [
    "Your `inference` object is an array of two values, the predicted probability value for each of your classes (bicycle and motorcycle respectively.) So, for example, a value of `b'[0.91, 0.09]'` indicates the probability of being a bike is 91% and being a motorcycle is 9%."
   ]
  },
  {
   "cell_type": "code",
   "execution_count": 20,
   "metadata": {},
   "outputs": [
    {
     "name": "stdout",
     "output_type": "stream",
     "text": [
      "b'[0.960787296295166, 0.0392126627266407]'\n"
     ]
    }
   ],
   "source": [
    "print(inference)"
   ]
  },
  {
   "cell_type": "markdown",
   "metadata": {},
   "source": [
    "### Draft Lambdas and Step Function Workflow\n",
    "\n",
    "Your operations team uses Step Functions to orchestrate serverless workflows. One of the nice things about Step Functions is that [workflows can call other workflows](https://docs.aws.amazon.com/step-functions/latest/dg/connect-stepfunctions.html), so the team can easily plug your workflow into the broader production architecture for Scones Unlimited.\n",
    "\n",
    "In this next stage you're going to write and deploy three Lambda functions, and then use the Step Functions visual editor to chain them together! Our functions are going to work with a simple data object:\n",
    "\n",
    "```python\n",
    "{\n",
    "    \"inferences\": [], # Output of predictor.predict\n",
    "    \"s3_key\": \"\", # Source data S3 key\n",
    "    \"s3_bucket\": \"\", # Source data S3 bucket\n",
    "    \"image_data\": \"\"  # base64 encoded string containing the image data\n",
    "}\n",
    "```\n",
    "\n",
    "A good test object that you can use for Lambda tests and Step Function executions, throughout the next section, might look like this:\n",
    "\n",
    "```python\n",
    "{\n",
    "  \"image_data\": \"\",\n",
    "  \"s3_bucket\": MY_BUCKET_NAME, # Fill in with your bucket\n",
    "  \"s3_key\": \"test/bicycle_s_000513.png\"\n",
    "}\n",
    "```\n",
    "\n",
    "Using these fields, your functions can read and write the necessary data to execute your workflow. Let's start with the first function. Your first Lambda function will copy an object from S3, base64 encode it, and then return it to the step function as `image_data` in an event.\n",
    "\n",
    "Go to the Lambda dashboard and create a new Lambda function with a descriptive name like \"serializeImageData\" and select thr 'Python 3.8' runtime. Add the same permissions as the SageMaker role you created earlier. (Reminder: you do this in the Configuration tab under \"Permissions\"). Once you're ready, use the starter code below to craft your Lambda handler:\n",
    "\n",
    "```python\n",
    "import json\n",
    "import boto3\n",
    "import base64\n",
    "\n",
    "s3 = boto3.client('s3')\n",
    "\n",
    "def lambda_handler(event, context):\n",
    "    \"\"\"A function to serialize target data from S3\"\"\"\n",
    "    \n",
    "    # Get the s3 address from the Step Function event input\n",
    "    key = ## TODO: fill in\n",
    "    bucket = ## TODO: fill in\n",
    "    \n",
    "    # Download the data from s3 to /tmp/image.png\n",
    "    ## TODO: fill in\n",
    "    \n",
    "    # We read the data from a file\n",
    "    with open(\"/tmp/image.png\", \"rb\") as f:\n",
    "        image_data = base64.b64encode(f.read())\n",
    "\n",
    "    # Pass the data back to the Step Function\n",
    "    print(\"Event:\", event.keys())\n",
    "    return {\n",
    "        'statusCode': 200,\n",
    "        'body': {\n",
    "            \"image_data\": image_data,\n",
    "            \"s3_bucket\": bucket,\n",
    "            \"s3_key\": key,\n",
    "            \"inferences\": []\n",
    "        }\n",
    "    }\n",
    "```\n",
    "\n",
    "The next function is responsible for the classification part - we're going to take the image output from the previous function, decode it, and then pass inferences back to the the Step Function.\n",
    "\n",
    "Because this Lambda will have runtime dependencies (i.e. the SageMaker SDK) you'll need to package them in your function. *Key reading:* https://docs.aws.amazon.com/lambda/latest/dg/python-package-create.html#python-package-create-with-dependency\n",
    "\n",
    "Create a new Lambda function with the same rights and a descriptive name, then fill in the starter code below for your classifier Lambda.\n",
    "\n",
    "```python\n",
    "import json\n",
    "import sagemaker\n",
    "import base64\n",
    "from sagemaker.serializers import IdentitySerializer\n",
    "\n",
    "# Fill this in with the name of your deployed model\n",
    "ENDPOINT = ## TODO: fill in\n",
    "\n",
    "def lambda_handler(event, context):\n",
    "\n",
    "    # Decode the image data\n",
    "    image = base64.b64decode(## TODO: fill in)\n",
    "\n",
    "    # Instantiate a Predictor\n",
    "    predictor = ## TODO: fill in\n",
    "\n",
    "    # For this model the IdentitySerializer needs to be \"image/png\"\n",
    "    predictor.serializer = IdentitySerializer(\"image/png\")\n",
    "    \n",
    "    # Make a prediction:\n",
    "    inferences = ## TODO: fill in\n",
    "    \n",
    "    # We return the data back to the Step Function    \n",
    "    event[\"inferences\"] = inferences.decode('utf-8')\n",
    "    return {\n",
    "        'statusCode': 200,\n",
    "        'body': json.dumps(event)\n",
    "    }\n",
    "```\n",
    "\n",
    "Finally, we need to filter low-confidence inferences. Define a threshold between 1.00 and 0.000 for your model: what is reasonble for you? If the model predicts at `.70` for it's highest confidence label, do we want to pass that inference along to downstream systems? Make one last Lambda function and tee up the same permissions:\n",
    "\n",
    "```python\n",
    "import json\n",
    "\n",
    "\n",
    "THRESHOLD = .93\n",
    "\n",
    "\n",
    "def lambda_handler(event, context):\n",
    "    \n",
    "    # Grab the inferences from the event\n",
    "    inferences = ## TODO: fill in\n",
    "    \n",
    "    # Check if any values in our inferences are above THRESHOLD\n",
    "    meets_threshold = ## TODO: fill in\n",
    "    \n",
    "    # If our threshold is met, pass our data back out of the\n",
    "    # Step Function, else, end the Step Function with an error\n",
    "    if meets_threshold:\n",
    "        pass\n",
    "    else:\n",
    "        raise(\"THRESHOLD_CONFIDENCE_NOT_MET\")\n",
    "\n",
    "    return {\n",
    "        'statusCode': 200,\n",
    "        'body': json.dumps(event)\n",
    "    }\n",
    "```\n",
    "Once you have tested the lambda functions, save the code for each lambda function in a python script called 'lambda.py'.\n",
    "\n",
    "With your lambdas in place, you can use the Step Functions visual editor to construct a workflow that chains them together. In the Step Functions console you'll have the option to author a Standard step function *Visually*.\n",
    "\n",
    "When the visual editor opens, you'll have many options to add transitions in your workflow. We're going to keep it simple and have just one: to invoke Lambda functions. Add three of them chained together. For each one, you'll be able to select the Lambda functions you just created in the proper order, filter inputs and outputs, and give them descriptive names.\n",
    "\n",
    "Make sure that you:\n",
    "\n",
    "1. Are properly filtering the inputs and outputs of your invokations (e.g. `$.body`)\n",
    "2. Take care to remove the error handling from the last function - it's supposed to \"fail loudly\" for your operations colleagues!\n",
    "\n",
    "Take a screenshot of your working step function in action and export the step function as JSON for your submission package."
   ]
  },
  {
   "cell_type": "markdown",
   "metadata": {},
   "source": [
    "\n",
    "Great! Now you can use the files in `./test` as test files for our workflow. Depending on our threshold, our workflow should reliably pass predictions about images from `./test` on to downstream systems, while erroring out for inferences below our confidence threshold!\n",
    "\n",
    "### Testing and Evaluation\n",
    "\n",
    "Do several step function invokations using data from the `./test` folder. This process should give you confidence that the workflow both *succeeds* AND *fails* as expected. In addition, SageMaker Model Monitor will generate recordings of your data and inferences which we can visualize.\n",
    "\n",
    "Here's a function that can help you generate test inputs for your invokations:"
   ]
  },
  {
   "cell_type": "code",
   "execution_count": 3,
   "metadata": {},
   "outputs": [
    {
     "data": {
      "text/plain": [
       "'{\"body\": {\"image_data\": \"\", \"s3_bucket\": \"sagemaker-us-east-1-650327132687\", \"s3_key\": \"test.lst\"}}'"
      ]
     },
     "execution_count": 3,
     "metadata": {},
     "output_type": "execute_result"
    }
   ],
   "source": [
    "import random\n",
    "import boto3\n",
    "import json\n",
    "\n",
    "\n",
    "def generate_test_case():\n",
    "    # Setup s3 in boto3\n",
    "    s3 = boto3.resource('s3')\n",
    "    \n",
    "    # Randomly pick from sfn or test folders in our bucket\n",
    "    objects = s3.Bucket(bucket).objects.filter(Prefix=\"test\")\n",
    "    \n",
    "    # Grab any random object key from that folder!\n",
    "    obj = random.choice([x.key for x in objects])\n",
    "    \n",
    "    return json.dumps({\"body\": {\n",
    "        \"image_data\": \"\",\n",
    "        \"s3_bucket\": bucket,\n",
    "        \"s3_key\": obj\n",
    "    }})\n",
    "generate_test_case()"
   ]
  },
  {
   "cell_type": "code",
   "execution_count": 7,
   "metadata": {},
   "outputs": [
    {
     "data": {
      "text/plain": [
       "{'executionArn': 'arn:aws:states:us-east-1:650327132687:execution:MyStateMachine:test-1661315958.5055168',\n",
       " 'startDate': datetime.datetime(2022, 8, 24, 4, 39, 18, 710000, tzinfo=tzlocal()),\n",
       " 'ResponseMetadata': {'RequestId': 'c0d758e9-70cf-40f8-87fb-f60c85e90712',\n",
       "  'HTTPStatusCode': 200,\n",
       "  'HTTPHeaders': {'x-amzn-requestid': 'c0d758e9-70cf-40f8-87fb-f60c85e90712',\n",
       "   'date': 'Wed, 24 Aug 2022 04:39:18 GMT',\n",
       "   'content-type': 'application/x-amz-json-1.0',\n",
       "   'content-length': '133'},\n",
       "  'RetryAttempts': 0}}"
      ]
     },
     "execution_count": 7,
     "metadata": {},
     "output_type": "execute_result"
    }
   ],
   "source": [
    "import time\n",
    "import json\n",
    "\n",
    "sfn_client = boto3.client('stepfunctions')\n",
    "\n",
    "state_machine_arn = 'arn:aws:states:us-east-1:650327132687:stateMachine:MyStateMachine'\n",
    "\n",
    "sfn_client.start_execution(\n",
    "    stateMachineArn=state_machine_arn,\n",
    "    name=f\"test-{time.time()}\",\n",
    "    input=generate_test_case()\n",
    ")"
   ]
  },
  {
   "cell_type": "markdown",
   "metadata": {},
   "source": [
    "In the Step Function dashboard for your new function, you can create new executions and copy in the generated test cases. Do several executions so that you can generate data you can evaluate and visualize.\n",
    "\n",
    "Once you've done several executions, let's visualize the record of our inferences. Pull in the JSONLines data from your inferences like so:"
   ]
  },
  {
   "cell_type": "code",
   "execution_count": 8,
   "metadata": {},
   "outputs": [],
   "source": [
    "from sagemaker.s3 import S3Downloader\n",
    "\n",
    "# In S3 your data will be saved to a datetime-aware path\n",
    "# Find a path related to a datetime you're interested in\n",
    "data_path = \"s3://sagemaker-us-east-1-650327132687/data_capture/image-classification-2022-08-24-02-04-12-325/AllTraffic/2022/08/24/04/\"\n",
    "\n",
    "S3Downloader.download(data_path, \"captured_data\")\n",
    "\n",
    "# Feel free to repeat this multiple times and pull in more data"
   ]
  },
  {
   "cell_type": "markdown",
   "metadata": {},
   "source": [
    "The data are in JSONLines format, where multiple valid JSON objects are stacked on top of eachother in a single `jsonl` file. We'll import an open-source library, `jsonlines` that was purpose built for parsing this format."
   ]
  },
  {
   "cell_type": "code",
   "execution_count": 9,
   "metadata": {},
   "outputs": [
    {
     "name": "stdout",
     "output_type": "stream",
     "text": [
      "Looking in indexes: https://pypi.org/simple, https://pip.repos.neuron.amazonaws.com\n",
      "Collecting jsonlines\n",
      "  Downloading jsonlines-3.1.0-py3-none-any.whl (8.6 kB)\n",
      "Requirement already satisfied: attrs>=19.2.0 in /home/ec2-user/anaconda3/envs/tensorflow2_p38/lib/python3.8/site-packages (from jsonlines) (21.2.0)\n",
      "Installing collected packages: jsonlines\n",
      "Successfully installed jsonlines-3.1.0\n",
      "\u001b[33mWARNING: You are using pip version 22.0.4; however, version 22.2.2 is available.\n",
      "You should consider upgrading via the '/home/ec2-user/anaconda3/envs/tensorflow2_p38/bin/python -m pip install --upgrade pip' command.\u001b[0m\u001b[33m\n",
      "\u001b[0m"
     ]
    }
   ],
   "source": [
    "!pip install jsonlines\n",
    "import jsonlines"
   ]
  },
  {
   "cell_type": "markdown",
   "metadata": {},
   "source": [
    "Now we can extract the data from each of the source files:"
   ]
  },
  {
   "cell_type": "code",
   "execution_count": 10,
   "metadata": {},
   "outputs": [],
   "source": [
    "import os\n",
    "\n",
    "# List the file names we downloaded\n",
    "file_handles = os.listdir(\"./captured_data\")\n",
    "\n",
    "# Dump all the data into an array\n",
    "json_data = []\n",
    "for jsonl in file_handles:\n",
    "    with jsonlines.open(f\"./captured_data/{jsonl}\") as f:\n",
    "        json_data.append(f.read())"
   ]
  },
  {
   "cell_type": "markdown",
   "metadata": {},
   "source": [
    "The data should now be a list of dictionaries, with significant nesting. We'll give you an example of some code that grabs data out of the objects and visualizes it:"
   ]
  },
  {
   "cell_type": "code",
   "execution_count": 11,
   "metadata": {},
   "outputs": [
    {
     "data": {
      "text/plain": [
       "([0.10375083982944489, 0.8962491750717163], '2022-08-24T04:34:01Z')"
      ]
     },
     "execution_count": 11,
     "metadata": {},
     "output_type": "execute_result"
    }
   ],
   "source": [
    "# Define how we'll get our data\n",
    "def simple_getter(obj):\n",
    "    inferences = obj[\"captureData\"][\"endpointOutput\"][\"data\"]\n",
    "    timestamp = obj[\"eventMetadata\"][\"inferenceTime\"]\n",
    "    return json.loads(inferences), timestamp\n",
    "\n",
    "simple_getter(json_data[0])"
   ]
  },
  {
   "cell_type": "markdown",
   "metadata": {},
   "source": [
    "Finally, here's an example of a visualization you can build with this data. In this last part, you will take some time and build your own - the captured data has the input images, the resulting inferences, and the timestamps."
   ]
  },
  {
   "cell_type": "code",
   "execution_count": 14,
   "metadata": {},
   "outputs": [
    {
     "data": {
      "image/png": "[encoded data removed]",
      "text/plain": [
       "<Figure size 432x288 with 1 Axes>"
      ]
     },
     "metadata": {
      "needs_background": "light"
     },
     "output_type": "display_data"
    }
   ],
   "source": [
    "import matplotlib.pyplot as plt\n",
    "# Populate the data for the x and y axis\n",
    "x = []\n",
    "y = []\n",
    "for obj in json_data:\n",
    "    inference, timestamp = simple_getter(obj)\n",
    "    \n",
    "    y.append(max(inference))\n",
    "    x.append(timestamp)\n",
    "\n",
    "# Todo: here is an visualization example, take some time to build another visual that helps monitor the result\n",
    "# Plot the data\n",
    "plt.scatter(x, y, c=['r' if k<.94 else 'b' for k in y ])\n",
    "plt.axhline(y=0.94, color='g', linestyle='--')\n",
    "plt.ylim(bottom=.88)\n",
    "\n",
    "# Add labels\n",
    "plt.ylabel(\"Confidence\")\n",
    "plt.suptitle(\"Observed Recent Inferences\", size=14)\n",
    "plt.title(\"Pictured with confidence threshold for production use\", size=10)\n",
    "\n",
    "# Give it some pizzaz!\n",
    "plt.style.use(\"Solarize_Light2\")\n",
    "plt.gcf().autofmt_xdate()"
   ]
  },
  {
   "cell_type": "markdown",
   "metadata": {},
   "source": [
    "### Todo: build your own visualization\n"
   ]
  },
  {
   "cell_type": "code",
   "execution_count": 41,
   "metadata": {},
   "outputs": [
    {
     "data": {
      "text/plain": [
       "Text(0.5, 0.98, 'Observed 3-attempts Rolling Average Inferences')"
      ]
     },
     "execution_count": 41,
     "metadata": {},
     "output_type": "execute_result"
    },
    {
     "data": {
      "image/png": "[encoded data removed]",
      "text/plain": [
       "<Figure size 576x432 with 1 Axes>"
      ]
     },
     "metadata": {},
     "output_type": "display_data"
    }
   ],
   "source": [
    "from statistics import mean\n",
    "\n",
    "y_3_avg = [mean(y[max(0, i-1): min(len(y), i+2)]) for i in range(len(y))]\n",
    "plt.figure(figsize=(8, 6))\n",
    "plt.bar(x, y_3_avg)\n",
    "plt.plot(x, y_3_avg, '^k--')\n",
    "plt.gcf().autofmt_xdate()\n",
    "\n",
    "# Add labels\n",
    "plt.ylabel(\"Average Confidence\")\n",
    "plt.suptitle(\"Observed 3-attempts Rolling Average Inferences\", size=14)"
   ]
  },
  {
   "cell_type": "markdown",
   "metadata": {},
   "source": [
    "### Congratulations!\n",
    "\n",
    "You've reached the end of the project. In this project you created an event-drivent ML workflow that can be incorporated into the Scones Unlimited production architecture. You used the SageMaker Estimator API to deploy your SageMaker Model and Endpoint, and you used AWS Lambda and Step Functions to orchestrate your ML workflow. Using SageMaker Model Monitor, you instrumented and observed your Endpoint, and at the end of the project you built a visualization to help stakeholders understand the performance of the Endpoint over time. If you're up for it, you can even go further with these stretch goals:\n",
    "\n",
    "* Extend your workflow to incorporate more classes: the CIFAR dataset includes other vehicles that Scones Unlimited can identify with this model.\n",
    "* Modify your event driven workflow: can you rewrite your Lambda functions so that the workflow can process multiple image inputs in parallel? Can the Step Function \"fan out\" to accomodate this new workflow?\n",
    "* Consider the test data generator we provided for you. Can we use it to create a \"dummy data\" generator, to simulate a continuous stream of input data? Or a big paralell load of data?\n",
    "* What if we want to get notified every time our step function errors out? Can we use the Step Functions visual editor in conjunction with a service like SNS to accomplish this? Try it out!\n",
    "\n",
    "\n"
   ]
  }
 ],
 "metadata": {
  "instance_type": "ml.t3.medium",
  "kernelspec": {
   "display_name": "conda_tensorflow2_p38",
   "language": "python",
   "name": "conda_tensorflow2_p38"
  },
  "language_info": {
   "codemirror_mode": {
    "name": "ipython",
    "version": 3
   },
   "file_extension": ".py",
   "mimetype": "text/x-python",
   "name": "python",
   "nbconvert_exporter": "python",
   "pygments_lexer": "ipython3",
   "version": "3.8.12"
  }
 },
 "nbformat": 4,
 "nbformat_minor": 4
}
